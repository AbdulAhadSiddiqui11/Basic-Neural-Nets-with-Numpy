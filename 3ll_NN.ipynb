{
  "nbformat": 4,
  "nbformat_minor": 0,
  "metadata": {
    "colab": {
      "name": "3ll-NN.ipynb",
      "version": "0.3.2",
      "provenance": [],
      "collapsed_sections": []
    },
    "kernelspec": {
      "name": "python3",
      "display_name": "Python 3"
    }
  },
  "cells": [
    {
      "cell_type": "code",
      "metadata": {
        "id": "wo1ngEt_rVcg",
        "colab_type": "code",
        "colab": {}
      },
      "source": [
        "import numpy as np"
      ],
      "execution_count": 0,
      "outputs": []
    },
    {
      "cell_type": "code",
      "metadata": {
        "id": "sctLSVNfrjgs",
        "colab_type": "code",
        "colab": {}
      },
      "source": [
        "# 3 Layered Neural Network\n",
        "class FFNetwork:\n",
        "    def __init__(self):\n",
        "        np.random.seed(1)\n",
        "        self.weights1 = 2 * np.random.random((3,7)) - 1\n",
        "        self.weights2 = 2 * np.random.random((7,1)) - 1\n",
        "\n",
        "        \n",
        "    \n",
        "    def sigmoid(self,x,deriv = False):\n",
        "        if(deriv == True):\n",
        "            return x * (1-x)\n",
        "        return 1/(1+np.exp(-x))\n",
        "        \n",
        "    \n",
        "    def train(self,inputs,outputs,iterations):\n",
        "        for iterr in range(iterations):\n",
        "            l0 = inputs\n",
        "            l1 = self.sigmoid(np.dot(l0,self.weights1))\n",
        "            l2 = self.sigmoid(np.dot(l1,self.weights2))\n",
        "            \n",
        "            l2_error = outputs - l2\n",
        "            l2_delta = l2_error * self.sigmoid(l2,deriv = True)\n",
        "            \n",
        "            l1_error = l2_delta.dot(self.weights2.T)\n",
        "            l1_delta = l1_error * self.sigmoid(l1,deriv = True)\n",
        "            \n",
        "            self.weights2 += np.dot(l1.T,l2_delta)\n",
        "            self.weights1 += np.dot(l0.T,l1_delta)\n",
        "        return l2\n",
        "        "
      ],
      "execution_count": 0,
      "outputs": []
    },
    {
      "cell_type": "code",
      "metadata": {
        "id": "LN9FRw5g7GYr",
        "colab_type": "code",
        "colab": {
          "base_uri": "https://localhost:8080/",
          "height": 201
        },
        "outputId": "61e372db-1b51-476f-ef32-6eb72246d8e3"
      },
      "source": [
        "inputs = np.array([ [0,0,1],[0,1,1],[1,0,1],[1,1,1] ])\n",
        "outputs = np.array([[0,1,1,0]]).T\n",
        "NN = FFNetwork()\n",
        "generated_output = NN.train(inputs,outputs,60000)\n",
        "print(\"Network's prediction : \")\n",
        "for output in generated_output:\n",
        "    print(round(float(output)))\n",
        "print(\"Actual Output : \")\n",
        "for output in outputs:\n",
        "    print(int(output))"
      ],
      "execution_count": 68,
      "outputs": [
        {
          "output_type": "stream",
          "text": [
            "Network's prediction : \n",
            "0\n",
            "1\n",
            "1\n",
            "0\n",
            "Actual Output : \n",
            "0\n",
            "1\n",
            "1\n",
            "0\n"
          ],
          "name": "stdout"
        }
      ]
    }
  ]
}