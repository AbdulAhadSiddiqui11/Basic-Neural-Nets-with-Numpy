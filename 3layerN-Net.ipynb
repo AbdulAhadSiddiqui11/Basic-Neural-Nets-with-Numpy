{
  "nbformat": 4,
  "nbformat_minor": 0,
  "metadata": {
    "colab": {
      "name": "Untitled0.ipynb",
      "version": "0.3.2",
      "provenance": []
    },
    "kernelspec": {
      "name": "python3",
      "display_name": "Python 3"
    }
  },
  "cells": [
    {
      "cell_type": "code",
      "metadata": {
        "id": "v7rSWnsY97c1",
        "colab_type": "code",
        "colab": {}
      },
      "source": [
        "!pip install -q numpy\n",
        "import numpy as np"
      ],
      "execution_count": 0,
      "outputs": []
    },
    {
      "cell_type": "code",
      "metadata": {
        "id": "JM7UpHgV-KDl",
        "colab_type": "code",
        "colab": {}
      },
      "source": [
        "def nonlin(x,deriv=False):\n",
        "\tif(deriv==True):\n",
        "\t    return x*(1-x)\n",
        "\n",
        "\treturn 1/(1+np.exp(-x))"
      ],
      "execution_count": 0,
      "outputs": []
    },
    {
      "cell_type": "code",
      "metadata": {
        "id": "pox8Uvs5-Oq1",
        "colab_type": "code",
        "colab": {}
      },
      "source": [
        "inputs = np.array([[0,0,1],\n",
        "            [0,1,1],\n",
        "            [1,0,1],\n",
        "            [1,1,1]])\n",
        "                \n",
        "outputs = np.array([[0],\n",
        "\t\t\t[1],\n",
        "\t\t\t[1],\n",
        "\t\t\t[0]])\n"
      ],
      "execution_count": 0,
      "outputs": []
    },
    {
      "cell_type": "code",
      "metadata": {
        "id": "hXFN2nNy-Q6R",
        "colab_type": "code",
        "colab": {}
      },
      "source": [
        "np.random.seed(1)\n",
        "\n",
        "# randomly initialize our weights with mean 0\n",
        "syn0 = 2*np.random.random((3,4)) - 1\n",
        "syn1 = 2*np.random.random((4,1)) - 1"
      ],
      "execution_count": 0,
      "outputs": []
    },
    {
      "cell_type": "code",
      "metadata": {
        "id": "dx1wRhhR-TwP",
        "colab_type": "code",
        "colab": {
          "base_uri": "https://localhost:8080/",
          "height": 127
        },
        "outputId": "8687d117-10c7-4007-98c9-b42e453c1e91"
      },
      "source": [
        "for j in range(60000):\n",
        "\n",
        "\t# Feed forward through layers 0, 1, and 2\n",
        "    l0 = inputs\n",
        "    l1 = nonlin(np.dot(l0,syn0))\n",
        "    l2 = nonlin(np.dot(l1,syn1))\n",
        "\n",
        "    # how much did we miss the target value?\n",
        "    l2_error = outputs - l2\n",
        "    \n",
        "    if (j% 10000) == 0:\n",
        "        print (\"Error:\" + str(np.mean(np.abs(l2_error))))\n",
        "        \n",
        "    # in what direction is the target value?\n",
        "    # were we really sure? if so, don't change too much.\n",
        "    l2_delta = l2_error*nonlin(l2,deriv=True)\n",
        "\n",
        "    # how much did each l1 value contribute to the l2 error (according to the weights)?\n",
        "    l1_error = l2_delta.dot(syn1.T)\n",
        "    \n",
        "    # in what direction is the target l1?\n",
        "    # were we really sure? if so, don't change too much.\n",
        "    l1_delta = l1_error * nonlin(l1,deriv=True)\n",
        "\n",
        "    syn1 += l1.T.dot(l2_delta)\n",
        "    syn0 += l0.T.dot(l1_delta)\n"
      ],
      "execution_count": 11,
      "outputs": [
        {
          "output_type": "stream",
          "text": [
            "Error:0.4964100319027255\n",
            "Error:0.008584525653247157\n",
            "Error:0.0057894598625078085\n",
            "Error:0.004629176776769985\n",
            "Error:0.0039587652802736475\n",
            "Error:0.003510122567861678\n"
          ],
          "name": "stdout"
        }
      ]
    }
  ]
}